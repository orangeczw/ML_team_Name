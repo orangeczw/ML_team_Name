{
 "cells": [
  {
   "cell_type": "markdown",
   "metadata": {},
   "source": [
    "### Question list:\n",
    "Should x4(categorical) be standarized?\n",
    "\n",
    "Shall we find outliers and delete them?\n",
    "\n",
    "Standarization-->Split, or the other way round?"
   ]
  },
  {
   "cell_type": "code",
   "execution_count": 12,
   "metadata": {},
   "outputs": [],
   "source": [
    "import pandas as pd\n",
    "import numpy as np\n",
    "from sklearn.model_selection import cross_validate,train_test_split,KFold,LeaveOneOut,cross_val_score,cross_val_predict\n",
    "from matplotlib import pyplot as plt\n",
    "from sklearn.linear_model import Ridge \n",
    "# from sklearn.model_selection import train_test_split \n",
    "# from sklearn.datasets import load_boston \n",
    "from sklearn.preprocessing import StandardScaler \n",
    "\n",
    "from scipy import stats"
   ]
  },
  {
   "cell_type": "code",
   "execution_count": 30,
   "metadata": {},
   "outputs": [],
   "source": [
    "url = 'https://raw.githubusercontent.com/orangeczw/ML_team_Name/master/Task_1a/train.csv'\n",
    "train = pd.read_csv(url, error_bad_lines=False)\n",
    "y = train.iloc[:,1].copy()\n",
    "X = train.iloc[:,2:].copy()"
   ]
  },
  {
   "cell_type": "code",
   "execution_count": 3,
   "metadata": {},
   "outputs": [
    {
     "data": {
      "text/html": [
       "<div>\n",
       "<style scoped>\n",
       "    .dataframe tbody tr th:only-of-type {\n",
       "        vertical-align: middle;\n",
       "    }\n",
       "\n",
       "    .dataframe tbody tr th {\n",
       "        vertical-align: top;\n",
       "    }\n",
       "\n",
       "    .dataframe thead th {\n",
       "        text-align: right;\n",
       "    }\n",
       "</style>\n",
       "<table border=\"1\" class=\"dataframe\">\n",
       "  <thead>\n",
       "    <tr style=\"text-align: right;\">\n",
       "      <th></th>\n",
       "      <th>x1</th>\n",
       "      <th>x2</th>\n",
       "      <th>x3</th>\n",
       "      <th>x4</th>\n",
       "      <th>x5</th>\n",
       "      <th>x6</th>\n",
       "      <th>x7</th>\n",
       "      <th>x8</th>\n",
       "      <th>x9</th>\n",
       "      <th>x10</th>\n",
       "      <th>x11</th>\n",
       "      <th>x12</th>\n",
       "      <th>x13</th>\n",
       "    </tr>\n",
       "  </thead>\n",
       "  <tbody>\n",
       "    <tr>\n",
       "      <th>count</th>\n",
       "      <td>506.000000</td>\n",
       "      <td>506.000000</td>\n",
       "      <td>506.000000</td>\n",
       "      <td>506.000000</td>\n",
       "      <td>506.000000</td>\n",
       "      <td>506.000000</td>\n",
       "      <td>506.000000</td>\n",
       "      <td>506.000000</td>\n",
       "      <td>506.000000</td>\n",
       "      <td>506.000000</td>\n",
       "      <td>506.000000</td>\n",
       "      <td>506.000000</td>\n",
       "      <td>506.000000</td>\n",
       "    </tr>\n",
       "    <tr>\n",
       "      <th>mean</th>\n",
       "      <td>3.593761</td>\n",
       "      <td>11.363636</td>\n",
       "      <td>11.136779</td>\n",
       "      <td>0.069170</td>\n",
       "      <td>0.554695</td>\n",
       "      <td>6.284634</td>\n",
       "      <td>68.574901</td>\n",
       "      <td>3.795043</td>\n",
       "      <td>9.549407</td>\n",
       "      <td>408.237154</td>\n",
       "      <td>18.455534</td>\n",
       "      <td>356.674032</td>\n",
       "      <td>12.653063</td>\n",
       "    </tr>\n",
       "    <tr>\n",
       "      <th>std</th>\n",
       "      <td>8.596783</td>\n",
       "      <td>23.322453</td>\n",
       "      <td>6.860353</td>\n",
       "      <td>0.253994</td>\n",
       "      <td>0.115878</td>\n",
       "      <td>0.702617</td>\n",
       "      <td>28.148861</td>\n",
       "      <td>2.105710</td>\n",
       "      <td>8.707259</td>\n",
       "      <td>168.537116</td>\n",
       "      <td>2.164946</td>\n",
       "      <td>91.294864</td>\n",
       "      <td>7.141062</td>\n",
       "    </tr>\n",
       "    <tr>\n",
       "      <th>min</th>\n",
       "      <td>0.006320</td>\n",
       "      <td>0.000000</td>\n",
       "      <td>0.460000</td>\n",
       "      <td>0.000000</td>\n",
       "      <td>0.385000</td>\n",
       "      <td>3.561000</td>\n",
       "      <td>2.900000</td>\n",
       "      <td>1.129600</td>\n",
       "      <td>1.000000</td>\n",
       "      <td>187.000000</td>\n",
       "      <td>12.600000</td>\n",
       "      <td>0.320000</td>\n",
       "      <td>1.730000</td>\n",
       "    </tr>\n",
       "    <tr>\n",
       "      <th>25%</th>\n",
       "      <td>0.082045</td>\n",
       "      <td>0.000000</td>\n",
       "      <td>5.190000</td>\n",
       "      <td>0.000000</td>\n",
       "      <td>0.449000</td>\n",
       "      <td>5.885500</td>\n",
       "      <td>45.025000</td>\n",
       "      <td>2.100175</td>\n",
       "      <td>4.000000</td>\n",
       "      <td>279.000000</td>\n",
       "      <td>17.400000</td>\n",
       "      <td>375.377500</td>\n",
       "      <td>6.950000</td>\n",
       "    </tr>\n",
       "    <tr>\n",
       "      <th>50%</th>\n",
       "      <td>0.256510</td>\n",
       "      <td>0.000000</td>\n",
       "      <td>9.690000</td>\n",
       "      <td>0.000000</td>\n",
       "      <td>0.538000</td>\n",
       "      <td>6.208500</td>\n",
       "      <td>77.500000</td>\n",
       "      <td>3.207450</td>\n",
       "      <td>5.000000</td>\n",
       "      <td>330.000000</td>\n",
       "      <td>19.050000</td>\n",
       "      <td>391.440000</td>\n",
       "      <td>11.360000</td>\n",
       "    </tr>\n",
       "    <tr>\n",
       "      <th>75%</th>\n",
       "      <td>3.647422</td>\n",
       "      <td>12.500000</td>\n",
       "      <td>18.100000</td>\n",
       "      <td>0.000000</td>\n",
       "      <td>0.624000</td>\n",
       "      <td>6.623500</td>\n",
       "      <td>94.075000</td>\n",
       "      <td>5.188425</td>\n",
       "      <td>24.000000</td>\n",
       "      <td>666.000000</td>\n",
       "      <td>20.200000</td>\n",
       "      <td>396.225000</td>\n",
       "      <td>16.955000</td>\n",
       "    </tr>\n",
       "    <tr>\n",
       "      <th>max</th>\n",
       "      <td>88.976200</td>\n",
       "      <td>100.000000</td>\n",
       "      <td>27.740000</td>\n",
       "      <td>1.000000</td>\n",
       "      <td>0.871000</td>\n",
       "      <td>8.780000</td>\n",
       "      <td>100.000000</td>\n",
       "      <td>12.126500</td>\n",
       "      <td>24.000000</td>\n",
       "      <td>711.000000</td>\n",
       "      <td>22.000000</td>\n",
       "      <td>396.900000</td>\n",
       "      <td>37.970000</td>\n",
       "    </tr>\n",
       "  </tbody>\n",
       "</table>\n",
       "</div>"
      ],
      "text/plain": [
       "               x1          x2          x3          x4          x5          x6  \\\n",
       "count  506.000000  506.000000  506.000000  506.000000  506.000000  506.000000   \n",
       "mean     3.593761   11.363636   11.136779    0.069170    0.554695    6.284634   \n",
       "std      8.596783   23.322453    6.860353    0.253994    0.115878    0.702617   \n",
       "min      0.006320    0.000000    0.460000    0.000000    0.385000    3.561000   \n",
       "25%      0.082045    0.000000    5.190000    0.000000    0.449000    5.885500   \n",
       "50%      0.256510    0.000000    9.690000    0.000000    0.538000    6.208500   \n",
       "75%      3.647422   12.500000   18.100000    0.000000    0.624000    6.623500   \n",
       "max     88.976200  100.000000   27.740000    1.000000    0.871000    8.780000   \n",
       "\n",
       "               x7          x8          x9         x10         x11         x12  \\\n",
       "count  506.000000  506.000000  506.000000  506.000000  506.000000  506.000000   \n",
       "mean    68.574901    3.795043    9.549407  408.237154   18.455534  356.674032   \n",
       "std     28.148861    2.105710    8.707259  168.537116    2.164946   91.294864   \n",
       "min      2.900000    1.129600    1.000000  187.000000   12.600000    0.320000   \n",
       "25%     45.025000    2.100175    4.000000  279.000000   17.400000  375.377500   \n",
       "50%     77.500000    3.207450    5.000000  330.000000   19.050000  391.440000   \n",
       "75%     94.075000    5.188425   24.000000  666.000000   20.200000  396.225000   \n",
       "max    100.000000   12.126500   24.000000  711.000000   22.000000  396.900000   \n",
       "\n",
       "              x13  \n",
       "count  506.000000  \n",
       "mean    12.653063  \n",
       "std      7.141062  \n",
       "min      1.730000  \n",
       "25%      6.950000  \n",
       "50%     11.360000  \n",
       "75%     16.955000  \n",
       "max     37.970000  "
      ]
     },
     "execution_count": 3,
     "metadata": {},
     "output_type": "execute_result"
    }
   ],
   "source": [
    "X.describe()"
   ]
  },
  {
   "cell_type": "code",
   "execution_count": 4,
   "metadata": {},
   "outputs": [
    {
     "data": {
      "text/plain": [
       "x1     False\n",
       "x2     False\n",
       "x3     False\n",
       "x4     False\n",
       "x5     False\n",
       "x6     False\n",
       "x7     False\n",
       "x8     False\n",
       "x9     False\n",
       "x10    False\n",
       "x11    False\n",
       "x12    False\n",
       "x13    False\n",
       "dtype: bool"
      ]
     },
     "execution_count": 4,
     "metadata": {},
     "output_type": "execute_result"
    }
   ],
   "source": [
    "#See if there's NA value\n",
    "X.isna().any()"
   ]
  },
  {
   "cell_type": "markdown",
   "metadata": {},
   "source": [
    "#### Standardization + using cross_val_predict\n"
   ]
  },
  {
   "cell_type": "code",
   "execution_count": 21,
   "metadata": {},
   "outputs": [
    {
     "name": "stdout",
     "output_type": "stream",
     "text": [
      "          0\n",
      "0  4.879264\n",
      "1  4.879199\n",
      "2  4.878675\n",
      "3  4.882013\n",
      "4  5.037022\n"
     ]
    }
   ],
   "source": [
    "# scaling the inputs \n",
    "scaler = StandardScaler() \n",
    "scaled_X = scaler.fit_transform(X) \n",
    "\n",
    "#Standarize by above steps or 'normalize = False'?\n",
    "penalty = [0.01,0.1,1,10,100]\n",
    "RMSE = []\n",
    "\n",
    "for lmd in penalty:\n",
    "    model = Ridge(alpha = lmd, normalize = False, tol = 0.001, solver ='auto', random_state = 42) #solver?random_state?\n",
    "#     cv_results = cross_validate(model, scaled_X, y, cv=10)\n",
    "    predictions = cross_val_predict(model, scaled_X, y, cv=10)\n",
    "#     plt.scatter(y, predictions)\n",
    "    error = np.sqrt((y-predictions).pow(2).sum()/len(X))\n",
    "    RMSE.append(error)\n",
    "\n",
    "RMSE = pd.DataFrame(RMSE) \n",
    "# RMSE.to_csv(r'C:\\Users\\l\\Desktop\\task_1a_1.csv', index = False, header=False)\n",
    "print(RMSE)"
   ]
  },
  {
   "cell_type": "markdown",
   "metadata": {},
   "source": [
    "#### Standardization + using cross_validate "
   ]
  },
  {
   "cell_type": "code",
   "execution_count": 50,
   "metadata": {},
   "outputs": [
    {
     "name": "stdout",
     "output_type": "stream",
     "text": [
      "[4.8785426102416105, 4.878477774804437, 4.877962725773613, 4.881405239155095, 5.037399687059372]\n"
     ]
    }
   ],
   "source": [
    "# scaling the inputs \n",
    "scaler = StandardScaler() \n",
    "scaled_X = scaler.fit_transform(X) \n",
    "\n",
    "#Standarize by above steps or 'normalize = False'?\n",
    "penalty = [0.01,0.1,1,10,100]\n",
    "RMSE = []\n",
    "\n",
    "for lmd in penalty:\n",
    "    model = Ridge(alpha = lmd, normalize = False, tol = 0.001, solver ='auto', random_state = 42) #solver?random_state?\n",
    "    cv_results = cross_validate(model, scaled_X, y, cv=10,\n",
    "                            n_jobs=-1,scoring=('neg_mean_squared_error'))\n",
    "    result = np.sqrt(np.abs(cv_results[\"test_score\"]).mean())\n",
    "    RMSE.append(result)\n",
    "    \n",
    "RMSE = pd.DataFrame(RMSE) \n",
    "# RMSE.to_csv(r'C:\\Users\\l\\Desktop\\task_1a_2.csv', index = False, header=False)\n",
    "print(RMSE)"
   ]
  },
  {
   "cell_type": "markdown",
   "metadata": {},
   "source": [
    "#### Standardization + using kf.split()"
   ]
  },
  {
   "cell_type": "code",
   "execution_count": 62,
   "metadata": {},
   "outputs": [
    {
     "name": "stdout",
     "output_type": "stream",
     "text": [
      "          0\n",
      "0  4.796570\n",
      "1  4.796415\n",
      "2  4.795024\n",
      "3  4.791487\n",
      "4  4.924880\n"
     ]
    }
   ],
   "source": [
    "# report the average of the RMSEs on the left-out folds\n",
    "scaler = StandardScaler() \n",
    "scaled_X = scaler.fit_transform(X) \n",
    "scaled_X = pd.DataFrame(scaled_X)\n",
    "\n",
    "kf = KFold(n_splits=10, random_state = 42) # Define the split - into 10 folds \n",
    "kf.get_n_splits(scaled_X) # returns the number of splitting iterations in the cross-validator\n",
    "\n",
    "penalty = [0.01,0.1,1,10,100]\n",
    "RMSE = []\n",
    "\n",
    "for lmd in penalty:\n",
    "    error = 0\n",
    "    model = Ridge(alpha=lmd, random_state = 42)\n",
    "    for train_index, test_index in kf.split(scaled_X):\n",
    "        X_train, X_test = scaled_X.iloc[train_index,:], scaled_X.iloc[test_index,:]\n",
    "        y_train, y_test = y.iloc[train_index], y.iloc[test_index]\n",
    "        model.fit(X_train, y_train)\n",
    "        y_pred = model.predict(X_test) \n",
    "        error += np.sqrt((y_pred - y_test).pow(2).mean())\n",
    "    RMSE.append(error/10) \n",
    "\n",
    "RMSE = pd.DataFrame(RMSE) \n",
    "RMSE.to_csv(r'C:\\Users\\l\\Desktop\\task_1a_3.csv', index = False, header=False)\n",
    "print(RMSE)"
   ]
  },
  {
   "cell_type": "code",
   "execution_count": 37,
   "metadata": {},
   "outputs": [
    {
     "name": "stdout",
     "output_type": "stream",
     "text": [
      "          0\n",
      "0  4.253636\n",
      "1  4.253494\n",
      "2  4.252214\n",
      "3  4.248638\n",
      "4  4.375949\n"
     ]
    }
   ],
   "source": [
    "# get rid of the outliers (outside of 3*std)\n",
    "X_selected = X[(np.abs(stats.zscore(X)) < 3).all(axis=1)]\n",
    "y_selected = y[(np.abs(stats.zscore(X)) < 3).all(axis=1)]\n",
    "scaler = StandardScaler() \n",
    "scaled_X = scaler.fit_transform(X_selected) \n",
    "\n",
    "#Standarize by above steps or 'normalize = False'?\n",
    "penalty = [0.01,0.1,1,10,100]\n",
    "RMSE = []\n",
    "\n",
    "for lmd in penalty:\n",
    "    model = Ridge(alpha = lmd, normalize = False, tol = 0.001, solver ='auto', random_state = 42) #solver?random_state?\n",
    "#     cv_results = cross_validate(model, scaled_X, y, cv=10)\n",
    "    predictions = cross_val_predict(model, scaled_X, y_selected, cv=10)\n",
    "#     plt.scatter(y, predictions)\n",
    "    error = np.sqrt((y_selected-predictions).pow(2).sum()/len(X_selected))\n",
    "    RMSE.append(error)\n",
    "\n",
    "RMSE = pd.DataFrame(RMSE) \n",
    "# RMSE.to_csv(r'C:\\Users\\l\\Desktop\\task_1a_1.csv', index = False, header=False)\n",
    "print(RMSE)"
   ]
  },
  {
   "cell_type": "code",
   "execution_count": null,
   "metadata": {},
   "outputs": [],
   "source": []
  }
 ],
 "metadata": {
  "kernelspec": {
   "display_name": "Python 3",
   "language": "python",
   "name": "python3"
  },
  "language_info": {
   "codemirror_mode": {
    "name": "ipython",
    "version": 3
   },
   "file_extension": ".py",
   "mimetype": "text/x-python",
   "name": "python",
   "nbconvert_exporter": "python",
   "pygments_lexer": "ipython3",
   "version": "3.7.1"
  }
 },
 "nbformat": 4,
 "nbformat_minor": 2
}
