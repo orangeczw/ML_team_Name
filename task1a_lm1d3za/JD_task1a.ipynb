{
 "cells": [
  {
   "cell_type": "code",
   "execution_count": 178,
   "metadata": {},
   "outputs": [],
   "source": [
    "import numpy as np\n",
    "import pandas as pd\n",
    "import matplotlib.pyplot as plt\n",
    "\n",
    "from sklearn.linear_model import Ridge\n",
    "from sklearn.preprocessing import StandardScaler \n",
    "from sklearn.model_selection import train_test_split, KFold, cross_val_score, cross_val_predict\n",
    "from sklearn import metrics"
   ]
  },
  {
   "cell_type": "code",
   "execution_count": 179,
   "metadata": {},
   "outputs": [],
   "source": [
    "np.random.seed(42)"
   ]
  },
  {
   "cell_type": "code",
   "execution_count": 180,
   "metadata": {},
   "outputs": [],
   "source": [
    "data = pd.read_csv(\"/Users/juandiego/Desktop/ETH_UZH/Spring 2020/Intro ML/Projects/task1a_lm1d3za/train.csv\")\n",
    "sample_data = pd.read_csv(\"/Users/juandiego/Desktop/ETH_UZH/Spring 2020/Intro ML/Projects/task1a_lm1d3za/sample.csv\")"
   ]
  },
  {
   "cell_type": "code",
   "execution_count": 181,
   "metadata": {},
   "outputs": [
    {
     "data": {
      "text/html": [
       "<div>\n",
       "<style scoped>\n",
       "    .dataframe tbody tr th:only-of-type {\n",
       "        vertical-align: middle;\n",
       "    }\n",
       "\n",
       "    .dataframe tbody tr th {\n",
       "        vertical-align: top;\n",
       "    }\n",
       "\n",
       "    .dataframe thead th {\n",
       "        text-align: right;\n",
       "    }\n",
       "</style>\n",
       "<table border=\"1\" class=\"dataframe\">\n",
       "  <thead>\n",
       "    <tr style=\"text-align: right;\">\n",
       "      <th></th>\n",
       "      <th>Id</th>\n",
       "      <th>y</th>\n",
       "      <th>x1</th>\n",
       "      <th>x2</th>\n",
       "      <th>x3</th>\n",
       "      <th>x4</th>\n",
       "      <th>x5</th>\n",
       "      <th>x6</th>\n",
       "      <th>x7</th>\n",
       "      <th>x8</th>\n",
       "      <th>x9</th>\n",
       "      <th>x10</th>\n",
       "      <th>x11</th>\n",
       "      <th>x12</th>\n",
       "      <th>x13</th>\n",
       "    </tr>\n",
       "  </thead>\n",
       "  <tbody>\n",
       "    <tr>\n",
       "      <td>0</td>\n",
       "      <td>0</td>\n",
       "      <td>22.6</td>\n",
       "      <td>0.06724</td>\n",
       "      <td>0.0</td>\n",
       "      <td>3.24</td>\n",
       "      <td>0.0</td>\n",
       "      <td>0.460</td>\n",
       "      <td>6.333</td>\n",
       "      <td>17.2</td>\n",
       "      <td>5.2146</td>\n",
       "      <td>4.0</td>\n",
       "      <td>430.0</td>\n",
       "      <td>16.9</td>\n",
       "      <td>375.21</td>\n",
       "      <td>7.34</td>\n",
       "    </tr>\n",
       "    <tr>\n",
       "      <td>1</td>\n",
       "      <td>1</td>\n",
       "      <td>50.0</td>\n",
       "      <td>9.23230</td>\n",
       "      <td>0.0</td>\n",
       "      <td>18.10</td>\n",
       "      <td>0.0</td>\n",
       "      <td>0.631</td>\n",
       "      <td>6.216</td>\n",
       "      <td>100.0</td>\n",
       "      <td>1.1691</td>\n",
       "      <td>24.0</td>\n",
       "      <td>666.0</td>\n",
       "      <td>20.2</td>\n",
       "      <td>366.15</td>\n",
       "      <td>9.53</td>\n",
       "    </tr>\n",
       "    <tr>\n",
       "      <td>2</td>\n",
       "      <td>2</td>\n",
       "      <td>23.0</td>\n",
       "      <td>0.11425</td>\n",
       "      <td>0.0</td>\n",
       "      <td>13.89</td>\n",
       "      <td>1.0</td>\n",
       "      <td>0.550</td>\n",
       "      <td>6.373</td>\n",
       "      <td>92.4</td>\n",
       "      <td>3.3633</td>\n",
       "      <td>5.0</td>\n",
       "      <td>276.0</td>\n",
       "      <td>16.4</td>\n",
       "      <td>393.74</td>\n",
       "      <td>10.50</td>\n",
       "    </tr>\n",
       "    <tr>\n",
       "      <td>3</td>\n",
       "      <td>3</td>\n",
       "      <td>8.3</td>\n",
       "      <td>24.80170</td>\n",
       "      <td>0.0</td>\n",
       "      <td>18.10</td>\n",
       "      <td>0.0</td>\n",
       "      <td>0.693</td>\n",
       "      <td>5.349</td>\n",
       "      <td>96.0</td>\n",
       "      <td>1.7028</td>\n",
       "      <td>24.0</td>\n",
       "      <td>666.0</td>\n",
       "      <td>20.2</td>\n",
       "      <td>396.90</td>\n",
       "      <td>19.77</td>\n",
       "    </tr>\n",
       "    <tr>\n",
       "      <td>4</td>\n",
       "      <td>4</td>\n",
       "      <td>21.2</td>\n",
       "      <td>0.05646</td>\n",
       "      <td>0.0</td>\n",
       "      <td>12.83</td>\n",
       "      <td>0.0</td>\n",
       "      <td>0.437</td>\n",
       "      <td>6.232</td>\n",
       "      <td>53.7</td>\n",
       "      <td>5.0141</td>\n",
       "      <td>5.0</td>\n",
       "      <td>398.0</td>\n",
       "      <td>18.7</td>\n",
       "      <td>386.40</td>\n",
       "      <td>12.34</td>\n",
       "    </tr>\n",
       "  </tbody>\n",
       "</table>\n",
       "</div>"
      ],
      "text/plain": [
       "   Id     y        x1   x2     x3   x4     x5     x6     x7      x8    x9  \\\n",
       "0   0  22.6   0.06724  0.0   3.24  0.0  0.460  6.333   17.2  5.2146   4.0   \n",
       "1   1  50.0   9.23230  0.0  18.10  0.0  0.631  6.216  100.0  1.1691  24.0   \n",
       "2   2  23.0   0.11425  0.0  13.89  1.0  0.550  6.373   92.4  3.3633   5.0   \n",
       "3   3   8.3  24.80170  0.0  18.10  0.0  0.693  5.349   96.0  1.7028  24.0   \n",
       "4   4  21.2   0.05646  0.0  12.83  0.0  0.437  6.232   53.7  5.0141   5.0   \n",
       "\n",
       "     x10   x11     x12    x13  \n",
       "0  430.0  16.9  375.21   7.34  \n",
       "1  666.0  20.2  366.15   9.53  \n",
       "2  276.0  16.4  393.74  10.50  \n",
       "3  666.0  20.2  396.90  19.77  \n",
       "4  398.0  18.7  386.40  12.34  "
      ]
     },
     "execution_count": 181,
     "metadata": {},
     "output_type": "execute_result"
    }
   ],
   "source": [
    "data.head()"
   ]
  },
  {
   "cell_type": "markdown",
   "metadata": {},
   "source": [
    "Setting 'Id' column as the Index column of our dataframe to avoid clutter."
   ]
  },
  {
   "cell_type": "code",
   "execution_count": 182,
   "metadata": {},
   "outputs": [
    {
     "data": {
      "text/html": [
       "<div>\n",
       "<style scoped>\n",
       "    .dataframe tbody tr th:only-of-type {\n",
       "        vertical-align: middle;\n",
       "    }\n",
       "\n",
       "    .dataframe tbody tr th {\n",
       "        vertical-align: top;\n",
       "    }\n",
       "\n",
       "    .dataframe thead th {\n",
       "        text-align: right;\n",
       "    }\n",
       "</style>\n",
       "<table border=\"1\" class=\"dataframe\">\n",
       "  <thead>\n",
       "    <tr style=\"text-align: right;\">\n",
       "      <th></th>\n",
       "      <th>y</th>\n",
       "      <th>x1</th>\n",
       "      <th>x2</th>\n",
       "      <th>x3</th>\n",
       "      <th>x4</th>\n",
       "      <th>x5</th>\n",
       "      <th>x6</th>\n",
       "      <th>x7</th>\n",
       "      <th>x8</th>\n",
       "      <th>x9</th>\n",
       "      <th>x10</th>\n",
       "      <th>x11</th>\n",
       "      <th>x12</th>\n",
       "      <th>x13</th>\n",
       "    </tr>\n",
       "    <tr>\n",
       "      <th>Id</th>\n",
       "      <th></th>\n",
       "      <th></th>\n",
       "      <th></th>\n",
       "      <th></th>\n",
       "      <th></th>\n",
       "      <th></th>\n",
       "      <th></th>\n",
       "      <th></th>\n",
       "      <th></th>\n",
       "      <th></th>\n",
       "      <th></th>\n",
       "      <th></th>\n",
       "      <th></th>\n",
       "      <th></th>\n",
       "    </tr>\n",
       "  </thead>\n",
       "  <tbody>\n",
       "    <tr>\n",
       "      <td>0</td>\n",
       "      <td>22.6</td>\n",
       "      <td>0.06724</td>\n",
       "      <td>0.0</td>\n",
       "      <td>3.24</td>\n",
       "      <td>0.0</td>\n",
       "      <td>0.460</td>\n",
       "      <td>6.333</td>\n",
       "      <td>17.2</td>\n",
       "      <td>5.2146</td>\n",
       "      <td>4.0</td>\n",
       "      <td>430.0</td>\n",
       "      <td>16.9</td>\n",
       "      <td>375.21</td>\n",
       "      <td>7.34</td>\n",
       "    </tr>\n",
       "    <tr>\n",
       "      <td>1</td>\n",
       "      <td>50.0</td>\n",
       "      <td>9.23230</td>\n",
       "      <td>0.0</td>\n",
       "      <td>18.10</td>\n",
       "      <td>0.0</td>\n",
       "      <td>0.631</td>\n",
       "      <td>6.216</td>\n",
       "      <td>100.0</td>\n",
       "      <td>1.1691</td>\n",
       "      <td>24.0</td>\n",
       "      <td>666.0</td>\n",
       "      <td>20.2</td>\n",
       "      <td>366.15</td>\n",
       "      <td>9.53</td>\n",
       "    </tr>\n",
       "    <tr>\n",
       "      <td>2</td>\n",
       "      <td>23.0</td>\n",
       "      <td>0.11425</td>\n",
       "      <td>0.0</td>\n",
       "      <td>13.89</td>\n",
       "      <td>1.0</td>\n",
       "      <td>0.550</td>\n",
       "      <td>6.373</td>\n",
       "      <td>92.4</td>\n",
       "      <td>3.3633</td>\n",
       "      <td>5.0</td>\n",
       "      <td>276.0</td>\n",
       "      <td>16.4</td>\n",
       "      <td>393.74</td>\n",
       "      <td>10.50</td>\n",
       "    </tr>\n",
       "    <tr>\n",
       "      <td>3</td>\n",
       "      <td>8.3</td>\n",
       "      <td>24.80170</td>\n",
       "      <td>0.0</td>\n",
       "      <td>18.10</td>\n",
       "      <td>0.0</td>\n",
       "      <td>0.693</td>\n",
       "      <td>5.349</td>\n",
       "      <td>96.0</td>\n",
       "      <td>1.7028</td>\n",
       "      <td>24.0</td>\n",
       "      <td>666.0</td>\n",
       "      <td>20.2</td>\n",
       "      <td>396.90</td>\n",
       "      <td>19.77</td>\n",
       "    </tr>\n",
       "    <tr>\n",
       "      <td>4</td>\n",
       "      <td>21.2</td>\n",
       "      <td>0.05646</td>\n",
       "      <td>0.0</td>\n",
       "      <td>12.83</td>\n",
       "      <td>0.0</td>\n",
       "      <td>0.437</td>\n",
       "      <td>6.232</td>\n",
       "      <td>53.7</td>\n",
       "      <td>5.0141</td>\n",
       "      <td>5.0</td>\n",
       "      <td>398.0</td>\n",
       "      <td>18.7</td>\n",
       "      <td>386.40</td>\n",
       "      <td>12.34</td>\n",
       "    </tr>\n",
       "  </tbody>\n",
       "</table>\n",
       "</div>"
      ],
      "text/plain": [
       "       y        x1   x2     x3   x4     x5     x6     x7      x8    x9    x10  \\\n",
       "Id                                                                              \n",
       "0   22.6   0.06724  0.0   3.24  0.0  0.460  6.333   17.2  5.2146   4.0  430.0   \n",
       "1   50.0   9.23230  0.0  18.10  0.0  0.631  6.216  100.0  1.1691  24.0  666.0   \n",
       "2   23.0   0.11425  0.0  13.89  1.0  0.550  6.373   92.4  3.3633   5.0  276.0   \n",
       "3    8.3  24.80170  0.0  18.10  0.0  0.693  5.349   96.0  1.7028  24.0  666.0   \n",
       "4   21.2   0.05646  0.0  12.83  0.0  0.437  6.232   53.7  5.0141   5.0  398.0   \n",
       "\n",
       "     x11     x12    x13  \n",
       "Id                       \n",
       "0   16.9  375.21   7.34  \n",
       "1   20.2  366.15   9.53  \n",
       "2   16.4  393.74  10.50  \n",
       "3   20.2  396.90  19.77  \n",
       "4   18.7  386.40  12.34  "
      ]
     },
     "execution_count": 182,
     "metadata": {},
     "output_type": "execute_result"
    }
   ],
   "source": [
    "data = data.set_index('Id')\n",
    "data.head()"
   ]
  },
  {
   "cell_type": "markdown",
   "metadata": {},
   "source": [
    "Separating target and features."
   ]
  },
  {
   "cell_type": "code",
   "execution_count": 183,
   "metadata": {},
   "outputs": [],
   "source": [
    "X = data.iloc[:, 1:-1]\n",
    "y = data[\"y\"]"
   ]
  },
  {
   "cell_type": "markdown",
   "metadata": {},
   "source": [
    "Standardizing our features by removing the mean and scaling to unit variance."
   ]
  },
  {
   "cell_type": "code",
   "execution_count": 184,
   "metadata": {},
   "outputs": [],
   "source": [
    "scaler = StandardScaler()\n",
    "X = scaler.fit_transform(X)"
   ]
  },
  {
   "cell_type": "code",
   "execution_count": 185,
   "metadata": {},
   "outputs": [],
   "source": [
    "X = pd.DataFrame(X)"
   ]
  },
  {
   "cell_type": "code",
   "execution_count": 186,
   "metadata": {},
   "outputs": [
    {
     "data": {
      "text/html": [
       "<div>\n",
       "<style scoped>\n",
       "    .dataframe tbody tr th:only-of-type {\n",
       "        vertical-align: middle;\n",
       "    }\n",
       "\n",
       "    .dataframe tbody tr th {\n",
       "        vertical-align: top;\n",
       "    }\n",
       "\n",
       "    .dataframe thead th {\n",
       "        text-align: right;\n",
       "    }\n",
       "</style>\n",
       "<table border=\"1\" class=\"dataframe\">\n",
       "  <thead>\n",
       "    <tr style=\"text-align: right;\">\n",
       "      <th></th>\n",
       "      <th>0</th>\n",
       "      <th>1</th>\n",
       "      <th>2</th>\n",
       "      <th>3</th>\n",
       "      <th>4</th>\n",
       "      <th>5</th>\n",
       "      <th>6</th>\n",
       "      <th>7</th>\n",
       "      <th>8</th>\n",
       "      <th>9</th>\n",
       "      <th>10</th>\n",
       "      <th>11</th>\n",
       "    </tr>\n",
       "  </thead>\n",
       "  <tbody>\n",
       "    <tr>\n",
       "      <td>0</td>\n",
       "      <td>-0.410620</td>\n",
       "      <td>-0.487722</td>\n",
       "      <td>-1.152214</td>\n",
       "      <td>-0.272599</td>\n",
       "      <td>-0.818007</td>\n",
       "      <td>0.068904</td>\n",
       "      <td>-1.826921</td>\n",
       "      <td>0.674814</td>\n",
       "      <td>-0.637962</td>\n",
       "      <td>0.129256</td>\n",
       "      <td>-0.719220</td>\n",
       "      <td>0.203235</td>\n",
       "    </tr>\n",
       "    <tr>\n",
       "      <td>1</td>\n",
       "      <td>0.656539</td>\n",
       "      <td>-0.487722</td>\n",
       "      <td>1.015999</td>\n",
       "      <td>-0.272599</td>\n",
       "      <td>0.659147</td>\n",
       "      <td>-0.097781</td>\n",
       "      <td>1.117494</td>\n",
       "      <td>-1.248292</td>\n",
       "      <td>1.661245</td>\n",
       "      <td>1.530926</td>\n",
       "      <td>0.806576</td>\n",
       "      <td>0.103898</td>\n",
       "    </tr>\n",
       "    <tr>\n",
       "      <td>2</td>\n",
       "      <td>-0.405146</td>\n",
       "      <td>-0.487722</td>\n",
       "      <td>0.401721</td>\n",
       "      <td>3.668398</td>\n",
       "      <td>-0.040557</td>\n",
       "      <td>0.125891</td>\n",
       "      <td>0.847234</td>\n",
       "      <td>-0.205237</td>\n",
       "      <td>-0.523001</td>\n",
       "      <td>-0.785394</td>\n",
       "      <td>-0.950402</td>\n",
       "      <td>0.406405</td>\n",
       "    </tr>\n",
       "    <tr>\n",
       "      <td>3</td>\n",
       "      <td>2.469404</td>\n",
       "      <td>-0.487722</td>\n",
       "      <td>1.015999</td>\n",
       "      <td>-0.272599</td>\n",
       "      <td>1.194724</td>\n",
       "      <td>-1.332960</td>\n",
       "      <td>0.975252</td>\n",
       "      <td>-0.994588</td>\n",
       "      <td>1.661245</td>\n",
       "      <td>1.530926</td>\n",
       "      <td>0.806576</td>\n",
       "      <td>0.441052</td>\n",
       "    </tr>\n",
       "    <tr>\n",
       "      <td>4</td>\n",
       "      <td>-0.411875</td>\n",
       "      <td>-0.487722</td>\n",
       "      <td>0.247057</td>\n",
       "      <td>-0.272599</td>\n",
       "      <td>-1.016689</td>\n",
       "      <td>-0.074986</td>\n",
       "      <td>-0.528960</td>\n",
       "      <td>0.579502</td>\n",
       "      <td>-0.523001</td>\n",
       "      <td>-0.060801</td>\n",
       "      <td>0.113032</td>\n",
       "      <td>0.325926</td>\n",
       "    </tr>\n",
       "  </tbody>\n",
       "</table>\n",
       "</div>"
      ],
      "text/plain": [
       "          0         1         2         3         4         5         6  \\\n",
       "0 -0.410620 -0.487722 -1.152214 -0.272599 -0.818007  0.068904 -1.826921   \n",
       "1  0.656539 -0.487722  1.015999 -0.272599  0.659147 -0.097781  1.117494   \n",
       "2 -0.405146 -0.487722  0.401721  3.668398 -0.040557  0.125891  0.847234   \n",
       "3  2.469404 -0.487722  1.015999 -0.272599  1.194724 -1.332960  0.975252   \n",
       "4 -0.411875 -0.487722  0.247057 -0.272599 -1.016689 -0.074986 -0.528960   \n",
       "\n",
       "          7         8         9        10        11  \n",
       "0  0.674814 -0.637962  0.129256 -0.719220  0.203235  \n",
       "1 -1.248292  1.661245  1.530926  0.806576  0.103898  \n",
       "2 -0.205237 -0.523001 -0.785394 -0.950402  0.406405  \n",
       "3 -0.994588  1.661245  1.530926  0.806576  0.441052  \n",
       "4  0.579502 -0.523001 -0.060801  0.113032  0.325926  "
      ]
     },
     "execution_count": 186,
     "metadata": {},
     "output_type": "execute_result"
    }
   ],
   "source": [
    "X.head()"
   ]
  },
  {
   "cell_type": "markdown",
   "metadata": {},
   "source": [
    "Defining a dictionary that contains the 5 different regularization parameters."
   ]
  },
  {
   "cell_type": "code",
   "execution_count": 187,
   "metadata": {},
   "outputs": [
    {
     "name": "stdout",
     "output_type": "stream",
     "text": [
      "{'lambda_1': 0.01, 'lambda_2': 0.1, 'lambda_3': 1, 'lambda_4': 10, 'lambda_5': 100}\n"
     ]
    }
   ],
   "source": [
    "reg_params = {\n",
    "    \"lambda_1\": 0.01,\n",
    "    \"lambda_2\": 0.1,\n",
    "    \"lambda_3\": 1,\n",
    "    \"lambda_4\": 10,\n",
    "    \"lambda_5\": 100}\n",
    "print(reg_params)"
   ]
  },
  {
   "cell_type": "markdown",
   "metadata": {},
   "source": [
    "Splitting data into Training and Testing sets. (80/20 split)"
   ]
  },
  {
   "cell_type": "code",
   "execution_count": 188,
   "metadata": {},
   "outputs": [],
   "source": [
    "X_train, X_test, y_train, y_test = train_test_split(X, y, test_size=0.2)"
   ]
  },
  {
   "cell_type": "code",
   "execution_count": 189,
   "metadata": {},
   "outputs": [
    {
     "name": "stdout",
     "output_type": "stream",
     "text": [
      "(404, 12) (404,)\n",
      "(102, 12) (102,)\n"
     ]
    }
   ],
   "source": [
    "print(X_train.shape, y_train.shape)\n",
    "print(X_test.shape, y_test.shape)"
   ]
  },
  {
   "cell_type": "markdown",
   "metadata": {},
   "source": [
    "### 10-Fold Cross Validation"
   ]
  },
  {
   "cell_type": "code",
   "execution_count": 195,
   "metadata": {},
   "outputs": [
    {
     "name": "stdout",
     "output_type": "stream",
     "text": [
      "lambda_1 0.01\n",
      "lambda_2 0.1\n",
      "lambda_3 1\n",
      "lambda_4 10\n",
      "lambda_5 100\n"
     ]
    }
   ],
   "source": [
    "models = {}\n",
    "scores = {}\n",
    "\n",
    "for key, value in reg_params.items():\n",
    "    \n",
    "    print(key, value)\n",
    "    models[f\"best_model_{key}\"] = Ridge(alpha=value)\n",
    "    scores[f\"best_model_{key}\"] = []\n",
    "    cv = KFold(n_splits=10, shuffle=True)\n",
    "    \n",
    "    for train_index, test_index in cv.split(X):\n",
    "        \n",
    "#         print(\"Train Index: \", train_index, \"\\n\")\n",
    "#         print(\"Test Index: \", test_index)\n",
    "\n",
    "        cv_X_train, cv_X_test, cv_y_train, cv_y_test = X.iloc[train_index], X.iloc[test_index], y.iloc[train_index], y.iloc[test_index]\n",
    "        models[f\"best_model_{key}\"].fit(cv_X_train, cv_y_train)\n",
    "        y_hat = models[f\"best_model_{key}\"].predict(cv_X_test)\n",
    "        mse = metrics.mean_squared_error(cv_y_test, y_hat)\n",
    "        scores[f\"best_model_{key}\"].append(mse)"
   ]
  },
  {
   "cell_type": "code",
   "execution_count": 197,
   "metadata": {},
   "outputs": [
    {
     "data": {
      "text/plain": [
       "{'best_model_lambda_1': [28.833612950260015,\n",
       "  22.476195164303,\n",
       "  15.69397460247751,\n",
       "  15.251077623813954,\n",
       "  22.636678710076893,\n",
       "  28.233428791414962,\n",
       "  38.258448585928335,\n",
       "  20.132570759274298,\n",
       "  43.13982610103718,\n",
       "  50.790547731823125],\n",
       " 'best_model_lambda_2': [28.720526375229092,\n",
       "  22.472245769817047,\n",
       "  38.42291382690888,\n",
       "  19.578672817697534,\n",
       "  72.91298102519897,\n",
       "  20.816799339753288,\n",
       "  17.93831351830585,\n",
       "  18.10361765079273,\n",
       "  16.54266735450289,\n",
       "  31.73983857357102],\n",
       " 'best_model_lambda_3': [56.41158863639368,\n",
       "  38.669468340890795,\n",
       "  20.762554197883567,\n",
       "  30.68243704023207,\n",
       "  16.05045264352031,\n",
       "  52.44909931380213,\n",
       "  20.516378465875576,\n",
       "  14.700387250576261,\n",
       "  17.65523373264875,\n",
       "  21.30672790667893],\n",
       " 'best_model_lambda_4': [33.35472596788849,\n",
       "  27.53511789097516,\n",
       "  17.819099621063756,\n",
       "  38.35347160074015,\n",
       "  40.932188305400146,\n",
       "  20.983611050230106,\n",
       "  20.625616003651857,\n",
       "  14.877686002675977,\n",
       "  21.288752748130147,\n",
       "  47.388937229542435],\n",
       " 'best_model_lambda_5': [19.095664832439553,\n",
       "  26.638034251891288,\n",
       "  20.617540404049013,\n",
       "  25.88178178638752,\n",
       "  23.146017117563332,\n",
       "  40.01670266747294,\n",
       "  36.53022091556307,\n",
       "  23.40226964899359,\n",
       "  45.04634412102499,\n",
       "  39.219935395488825]}"
      ]
     },
     "execution_count": 197,
     "metadata": {},
     "output_type": "execute_result"
    }
   ],
   "source": [
    "scores"
   ]
  },
  {
   "cell_type": "markdown",
   "metadata": {},
   "source": [
    "### Computing RMSE"
   ]
  },
  {
   "cell_type": "code",
   "execution_count": 200,
   "metadata": {},
   "outputs": [],
   "source": [
    "rmse = []\n",
    "\n",
    "for key, value in reg_params.items():\n",
    "#     print(key, value)\n",
    "    rmse.append(np.sqrt(np.mean(scores[f\"best_model_{key}\"])))"
   ]
  },
  {
   "cell_type": "code",
   "execution_count": 203,
   "metadata": {},
   "outputs": [
    {
     "data": {
      "text/plain": [
       "[5.342718044407821,\n",
       " 5.359557596031386,\n",
       " 5.377772099378162,\n",
       " 5.3212705853047755,\n",
       " 5.473522733495076]"
      ]
     },
     "execution_count": 203,
     "metadata": {},
     "output_type": "execute_result"
    }
   ],
   "source": [
    "rmse"
   ]
  },
  {
   "cell_type": "code",
   "execution_count": null,
   "metadata": {},
   "outputs": [],
   "source": []
  }
 ],
 "metadata": {
  "kernelspec": {
   "display_name": "Python 3",
   "language": "python",
   "name": "python3"
  },
  "language_info": {
   "codemirror_mode": {
    "name": "ipython",
    "version": 3
   },
   "file_extension": ".py",
   "mimetype": "text/x-python",
   "name": "python",
   "nbconvert_exporter": "python",
   "pygments_lexer": "ipython3",
   "version": "3.7.4"
  }
 },
 "nbformat": 4,
 "nbformat_minor": 2
}
