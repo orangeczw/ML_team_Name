{
 "cells": [
  {
   "cell_type": "code",
   "execution_count": 2,
   "metadata": {},
   "outputs": [],
   "source": [
    "import pandas as pd\n",
    "import numpy as np\n",
    "from sklearn import datasets, linear_model\n",
    "from sklearn.linear_model import LinearRegression\n",
    "import statsmodels.api as sm\n",
    "from scipy import stats\n",
    "from sklearn.model_selection import cross_validate,train_test_split,KFold,LeaveOneOut,cross_val_score,cross_val_predict\n",
    "from sklearn import metrics\n",
    "from matplotlib import pyplot as plt"
   ]
  },
  {
   "cell_type": "code",
   "execution_count": 7,
   "metadata": {},
   "outputs": [],
   "source": [
    "url1 = 'https://raw.githubusercontent.com/orangeczw/ML_team_Name/master/Task_0/data/train.csv?token=AIHC5CJFX4NSZHMGSR2NLAK6MKVSA'\n",
    "url2 = 'https://raw.githubusercontent.com/orangeczw/ML_team_Name/master/Task_0/data/test.csv?token=AIHC5CJMR63KOCNBX6OMOTC6MKVVY'\n",
    "train = pd.read_csv(url1, error_bad_lines=False)\n",
    "test = pd.read_csv(url2, error_bad_lines=False)\n",
    "# train.fillna(method ='ffill', inplace = True) \n",
    "\n",
    "Y = train.iloc[:,1].copy()\n",
    "X = train.iloc[:,2:12].copy()\n",
    "test_set = test.iloc[:,1:11].copy()\n"
   ]
  },
  {
   "cell_type": "code",
   "execution_count": 9,
   "metadata": {},
   "outputs": [
    {
     "name": "stdout",
     "output_type": "stream",
     "text": [
      "[0.1 0.1 0.1 0.1 0.1 0.1 0.1 0.1 0.1 0.1] \n",
      " 1.0 \n",
      " -7.087523901105897e-10\n"
     ]
    }
   ],
   "source": [
    "reg = LinearRegression().fit(X, Y)\n",
    "print(reg.coef_, '\\n', reg.score(X, Y), '\\n', reg.intercept_)"
   ]
  },
  {
   "cell_type": "code",
   "execution_count": 10,
   "metadata": {},
   "outputs": [
    {
     "name": "stdout",
     "output_type": "stream",
     "text": [
      "                            OLS Regression Results                            \n",
      "==============================================================================\n",
      "Dep. Variable:                      y   R-squared:                       1.000\n",
      "Model:                            OLS   Adj. R-squared:                  1.000\n",
      "Method:                 Least Squares   F-statistic:                 2.820e+22\n",
      "Date:                Fri, 06 Mar 2020   Prob (F-statistic):               0.00\n",
      "Time:                        20:58:27   Log-Likelihood:             1.5236e+05\n",
      "No. Observations:               10000   AIC:                        -3.047e+05\n",
      "Df Residuals:                    9990   BIC:                        -3.046e+05\n",
      "Df Model:                          10                                         \n",
      "Covariance Type:            nonrobust                                         \n",
      "==============================================================================\n",
      "                 coef    std err          t      P>|t|      [0.025      0.975]\n",
      "------------------------------------------------------------------------------\n",
      "x1             0.1000   5.86e-13   1.71e+11      0.000       0.100       0.100\n",
      "x2             0.1000   5.85e-13   1.71e+11      0.000       0.100       0.100\n",
      "x3             0.1000   5.84e-13   1.71e+11      0.000       0.100       0.100\n",
      "x4             0.1000   5.86e-13   1.71e+11      0.000       0.100       0.100\n",
      "x5             0.1000    5.9e-13    1.7e+11      0.000       0.100       0.100\n",
      "x6             0.1000   5.87e-13    1.7e+11      0.000       0.100       0.100\n",
      "x7             0.1000   5.79e-13   1.73e+11      0.000       0.100       0.100\n",
      "x8             0.1000   5.93e-13   1.69e+11      0.000       0.100       0.100\n",
      "x9             0.1000    5.9e-13   1.69e+11      0.000       0.100       0.100\n",
      "x10            0.1000    5.9e-13   1.69e+11      0.000       0.100       0.100\n",
      "==============================================================================\n",
      "Omnibus:                      209.222   Durbin-Watson:                   1.999\n",
      "Prob(Omnibus):                  0.000   Jarque-Bera (JB):              451.636\n",
      "Skew:                          -0.054   Prob(JB):                     8.48e-99\n",
      "Kurtosis:                       4.036   Cond. No.                         1.06\n",
      "==============================================================================\n",
      "\n",
      "Warnings:\n",
      "[1] Standard Errors assume that the covariance matrix of the errors is correctly specified.\n"
     ]
    }
   ],
   "source": [
    "# X = sm.add_constant(X)#add intercept\n",
    "lm = sm.OLS(Y, X)\n",
    "lm_1 = lm.fit()\n",
    "\n",
    "print(lm_1.summary())\n",
    "\n",
    "train_pred = lm_1.predict(X)#in-sample prediction\n",
    "SSE = np.square(train_pred - Y).sum(axis = 0)#SSE of in-sample prediction"
   ]
  },
  {
   "cell_type": "code",
   "execution_count": 11,
   "metadata": {},
   "outputs": [],
   "source": [
    "test_pred = lm_1.predict(test_set) #prediction for test data\n",
    "test_pred = test_pred.to_frame()\n",
    "id = range(10000, 12000)\n",
    "test_pred.insert(0, \"Id\", id, True)\n",
    "test_pred.rename(columns={test_pred.columns[1]: \"y\"}, inplace = True)"
   ]
  },
  {
   "cell_type": "code",
   "execution_count": 12,
   "metadata": {},
   "outputs": [
    {
     "data": {
      "text/html": [
       "<div>\n",
       "<style scoped>\n",
       "    .dataframe tbody tr th:only-of-type {\n",
       "        vertical-align: middle;\n",
       "    }\n",
       "\n",
       "    .dataframe tbody tr th {\n",
       "        vertical-align: top;\n",
       "    }\n",
       "\n",
       "    .dataframe thead th {\n",
       "        text-align: right;\n",
       "    }\n",
       "</style>\n",
       "<table border=\"1\" class=\"dataframe\">\n",
       "  <thead>\n",
       "    <tr style=\"text-align: right;\">\n",
       "      <th></th>\n",
       "      <th>Id</th>\n",
       "      <th>y</th>\n",
       "    </tr>\n",
       "  </thead>\n",
       "  <tbody>\n",
       "    <tr>\n",
       "      <th>0</th>\n",
       "      <td>10000</td>\n",
       "      <td>-66.002423</td>\n",
       "    </tr>\n",
       "    <tr>\n",
       "      <th>1</th>\n",
       "      <td>10001</td>\n",
       "      <td>451.406504</td>\n",
       "    </tr>\n",
       "    <tr>\n",
       "      <th>2</th>\n",
       "      <td>10002</td>\n",
       "      <td>-461.676417</td>\n",
       "    </tr>\n",
       "    <tr>\n",
       "      <th>3</th>\n",
       "      <td>10003</td>\n",
       "      <td>40.501209</td>\n",
       "    </tr>\n",
       "    <tr>\n",
       "      <th>4</th>\n",
       "      <td>10004</td>\n",
       "      <td>-126.744722</td>\n",
       "    </tr>\n",
       "  </tbody>\n",
       "</table>\n",
       "</div>"
      ],
      "text/plain": [
       "      Id           y\n",
       "0  10000  -66.002423\n",
       "1  10001  451.406504\n",
       "2  10002 -461.676417\n",
       "3  10003   40.501209\n",
       "4  10004 -126.744722"
      ]
     },
     "execution_count": 12,
     "metadata": {},
     "output_type": "execute_result"
    }
   ],
   "source": [
    "test_pred.head(5)"
   ]
  },
  {
   "cell_type": "code",
   "execution_count": 188,
   "metadata": {},
   "outputs": [],
   "source": [
    "test_pred.to_csv(r'C:\\Users\\l\\Desktop\\task_0.csv', index = False)"
   ]
  },
  {
   "cell_type": "markdown",
   "metadata": {},
   "source": [
    "#### 10-fold CV\n",
    "Here we don't really have another model to compare with..."
   ]
  },
  {
   "cell_type": "code",
   "execution_count": 98,
   "metadata": {},
   "outputs": [
    {
     "name": "stdout",
     "output_type": "stream",
     "text": [
      "KFold(n_splits=10, random_state=None, shuffle=False)\n"
     ]
    }
   ],
   "source": [
    "# kf = KFold(n_splits=10) # Define the split - into 2 folds \n",
    "# kf.get_n_splits(X) # returns the number of splitting iterations in the cross-validator\n",
    "# print(kf) "
   ]
  },
  {
   "cell_type": "code",
   "execution_count": 114,
   "metadata": {},
   "outputs": [
    {
     "data": {
      "text/plain": [
       "(1000, 10)"
      ]
     },
     "execution_count": 114,
     "metadata": {},
     "output_type": "execute_result"
    }
   ],
   "source": [
    "# for train_index, test_index in kf.split(X):\n",
    "#     X_train, X_test = X.iloc[train_index,:], X.iloc[test_index,:]\n",
    "#     Y_train, Y_test = Y.iloc[train_index], Y.iloc[test_index]\n",
    "#     print(X_train, X_test, Y_train, Y_test)\n",
    "\n",
    "# X_train.shape\n",
    "# X_test.shape"
   ]
  },
  {
   "cell_type": "code",
   "execution_count": 119,
   "metadata": {},
   "outputs": [
    {
     "name": "stdout",
     "output_type": "stream",
     "text": [
      "Cross-validated scores: [1. 1. 1. 1. 1. 1. 1. 1. 1. 1.]\n"
     ]
    },
    {
     "data": {
      "text/plain": [
       "<matplotlib.collections.PathCollection at 0x1b3b79cec18>"
      ]
     },
     "execution_count": 119,
     "metadata": {},
     "output_type": "execute_result"
    },
    {
     "data": {
      "image/png": "[encoded data removed]",
      "text/plain": [
       "<Figure size 432x288 with 1 Axes>"
      ]
     },
     "metadata": {
      "needs_background": "light"
     },
     "output_type": "display_data"
    }
   ],
   "source": [
    "# Perform 6-fold cross validation\n",
    "scores = cross_val_score(reg, X, Y, cv=10)\n",
    "print('Cross-validated scores:', scores)\n",
    "predictions = cross_val_predict(reg, X, Y, cv=10)\n",
    "plt.scatter(Y, predictions)"
   ]
  },
  {
   "cell_type": "markdown",
   "metadata": {},
   "source": [
    "#### LOOCV"
   ]
  },
  {
   "cell_type": "code",
   "execution_count": 113,
   "metadata": {},
   "outputs": [],
   "source": [
    "# loo = LeaveOneOut()\n",
    "# loo.get_n_splits(X)\n",
    "\n",
    "# for train_index, test_index in loo.split(X):\n",
    "#     X_train, X_test = X.iloc[train_index,:], X.iloc[test_index,:]\n",
    "#     Y_train, Y_test = Y.iloc[train_index], Y.iloc[test_index]\n",
    "#     print(X_train, X_test, Y_train, Y_test)\n"
   ]
  },
  {
   "cell_type": "code",
   "execution_count": null,
   "metadata": {},
   "outputs": [],
   "source": []
  }
 ],
 "metadata": {
  "kernelspec": {
   "display_name": "Python 3",
   "language": "python",
   "name": "python3"
  },
  "language_info": {
   "codemirror_mode": {
    "name": "ipython",
    "version": 3
   },
   "file_extension": ".py",
   "mimetype": "text/x-python",
   "name": "python",
   "nbconvert_exporter": "python",
   "pygments_lexer": "ipython3",
   "version": "3.7.1"
  }
 },
 "nbformat": 4,
 "nbformat_minor": 2
}
