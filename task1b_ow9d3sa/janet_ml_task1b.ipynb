{
 "cells": [
  {
   "cell_type": "code",
   "execution_count": 187,
   "metadata": {},
   "outputs": [],
   "source": [
    "import pandas as pd\n",
    "import numpy as np\n",
    "from sklearn.model_selection import cross_validate,train_test_split,KFold,LeaveOneOut,cross_val_score,cross_val_predict\n",
    "from matplotlib import pyplot as plt\n",
    "from sklearn.linear_model import Lasso\n",
    "# from sklearn.linear_model import Ridge \n",
    "from sklearn.preprocessing import StandardScaler \n",
    "import seaborn as sns\n",
    "from sklearn.linear_model import LinearRegression\n",
    "import statsmodels.api as sm\n",
    "from scipy import stats\n"
   ]
  },
  {
   "cell_type": "code",
   "execution_count": 41,
   "metadata": {},
   "outputs": [
    {
     "data": {
      "text/plain": [
       "x1    False\n",
       "x2    False\n",
       "x3    False\n",
       "x4    False\n",
       "x5    False\n",
       "dtype: bool"
      ]
     },
     "execution_count": 41,
     "metadata": {},
     "output_type": "execute_result"
    }
   ],
   "source": [
    "url = 'https://raw.githubusercontent.com/orangeczw/ML_team_Name/master/task1b_ow9d3sa/train.csv'\n",
    "train = pd.read_csv(url, error_bad_lines=False)\n",
    "y = train.iloc[:,1].copy()\n",
    "X = train.iloc[:,2:].copy()\n",
    "#See if there's NA value\n",
    "X.isna().any()"
   ]
  },
  {
   "cell_type": "code",
   "execution_count": 109,
   "metadata": {},
   "outputs": [
    {
     "data": {
      "text/html": [
       "<div>\n",
       "<style scoped>\n",
       "    .dataframe tbody tr th:only-of-type {\n",
       "        vertical-align: middle;\n",
       "    }\n",
       "\n",
       "    .dataframe tbody tr th {\n",
       "        vertical-align: top;\n",
       "    }\n",
       "\n",
       "    .dataframe thead th {\n",
       "        text-align: right;\n",
       "    }\n",
       "</style>\n",
       "<table border=\"1\" class=\"dataframe\">\n",
       "  <thead>\n",
       "    <tr style=\"text-align: right;\">\n",
       "      <th></th>\n",
       "      <th>x1</th>\n",
       "      <th>x2</th>\n",
       "      <th>x3</th>\n",
       "      <th>x4</th>\n",
       "      <th>x5</th>\n",
       "      <th>x6</th>\n",
       "      <th>x7</th>\n",
       "      <th>x8</th>\n",
       "      <th>x9</th>\n",
       "      <th>x10</th>\n",
       "      <th>...</th>\n",
       "      <th>x12</th>\n",
       "      <th>x13</th>\n",
       "      <th>x14</th>\n",
       "      <th>x15</th>\n",
       "      <th>x16</th>\n",
       "      <th>x17</th>\n",
       "      <th>x18</th>\n",
       "      <th>x19</th>\n",
       "      <th>x20</th>\n",
       "      <th>x21</th>\n",
       "    </tr>\n",
       "  </thead>\n",
       "  <tbody>\n",
       "    <tr>\n",
       "      <th>0</th>\n",
       "      <td>0.02</td>\n",
       "      <td>0.05</td>\n",
       "      <td>-0.09</td>\n",
       "      <td>-0.43</td>\n",
       "      <td>-0.08</td>\n",
       "      <td>0.0004</td>\n",
       "      <td>0.0025</td>\n",
       "      <td>0.0081</td>\n",
       "      <td>0.1849</td>\n",
       "      <td>0.0064</td>\n",
       "      <td>...</td>\n",
       "      <td>1.051271</td>\n",
       "      <td>0.913931</td>\n",
       "      <td>0.650509</td>\n",
       "      <td>0.923116</td>\n",
       "      <td>0.999800</td>\n",
       "      <td>0.998750</td>\n",
       "      <td>0.995953</td>\n",
       "      <td>0.908966</td>\n",
       "      <td>0.996802</td>\n",
       "      <td>1.0</td>\n",
       "    </tr>\n",
       "    <tr>\n",
       "      <th>1</th>\n",
       "      <td>-0.13</td>\n",
       "      <td>0.11</td>\n",
       "      <td>-0.08</td>\n",
       "      <td>-0.29</td>\n",
       "      <td>-0.03</td>\n",
       "      <td>0.0169</td>\n",
       "      <td>0.0121</td>\n",
       "      <td>0.0064</td>\n",
       "      <td>0.0841</td>\n",
       "      <td>0.0009</td>\n",
       "      <td>...</td>\n",
       "      <td>1.116278</td>\n",
       "      <td>0.923116</td>\n",
       "      <td>0.748264</td>\n",
       "      <td>0.970446</td>\n",
       "      <td>0.991562</td>\n",
       "      <td>0.993956</td>\n",
       "      <td>0.996802</td>\n",
       "      <td>0.958244</td>\n",
       "      <td>0.999550</td>\n",
       "      <td>1.0</td>\n",
       "    </tr>\n",
       "    <tr>\n",
       "      <th>2</th>\n",
       "      <td>0.08</td>\n",
       "      <td>0.06</td>\n",
       "      <td>-0.07</td>\n",
       "      <td>-0.41</td>\n",
       "      <td>-0.03</td>\n",
       "      <td>0.0064</td>\n",
       "      <td>0.0036</td>\n",
       "      <td>0.0049</td>\n",
       "      <td>0.1681</td>\n",
       "      <td>0.0009</td>\n",
       "      <td>...</td>\n",
       "      <td>1.061837</td>\n",
       "      <td>0.932394</td>\n",
       "      <td>0.663650</td>\n",
       "      <td>0.970446</td>\n",
       "      <td>0.996802</td>\n",
       "      <td>0.998201</td>\n",
       "      <td>0.997551</td>\n",
       "      <td>0.917121</td>\n",
       "      <td>0.999550</td>\n",
       "      <td>1.0</td>\n",
       "    </tr>\n",
       "    <tr>\n",
       "      <th>3</th>\n",
       "      <td>0.02</td>\n",
       "      <td>-0.12</td>\n",
       "      <td>0.01</td>\n",
       "      <td>-0.43</td>\n",
       "      <td>-0.02</td>\n",
       "      <td>0.0004</td>\n",
       "      <td>0.0144</td>\n",
       "      <td>0.0001</td>\n",
       "      <td>0.1849</td>\n",
       "      <td>0.0004</td>\n",
       "      <td>...</td>\n",
       "      <td>0.886920</td>\n",
       "      <td>1.010050</td>\n",
       "      <td>0.650509</td>\n",
       "      <td>0.980199</td>\n",
       "      <td>0.999800</td>\n",
       "      <td>0.992809</td>\n",
       "      <td>0.999950</td>\n",
       "      <td>0.908966</td>\n",
       "      <td>0.999800</td>\n",
       "      <td>1.0</td>\n",
       "    </tr>\n",
       "    <tr>\n",
       "      <th>4</th>\n",
       "      <td>-0.14</td>\n",
       "      <td>-0.12</td>\n",
       "      <td>-0.08</td>\n",
       "      <td>-0.02</td>\n",
       "      <td>-0.08</td>\n",
       "      <td>0.0196</td>\n",
       "      <td>0.0144</td>\n",
       "      <td>0.0064</td>\n",
       "      <td>0.0004</td>\n",
       "      <td>0.0064</td>\n",
       "      <td>...</td>\n",
       "      <td>0.886920</td>\n",
       "      <td>0.923116</td>\n",
       "      <td>0.980199</td>\n",
       "      <td>0.923116</td>\n",
       "      <td>0.990216</td>\n",
       "      <td>0.992809</td>\n",
       "      <td>0.996802</td>\n",
       "      <td>0.999800</td>\n",
       "      <td>0.996802</td>\n",
       "      <td>1.0</td>\n",
       "    </tr>\n",
       "  </tbody>\n",
       "</table>\n",
       "<p>5 rows × 21 columns</p>\n",
       "</div>"
      ],
      "text/plain": [
       "     x1    x2    x3    x4    x5      x6      x7      x8      x9     x10  ...  \\\n",
       "0  0.02  0.05 -0.09 -0.43 -0.08  0.0004  0.0025  0.0081  0.1849  0.0064  ...   \n",
       "1 -0.13  0.11 -0.08 -0.29 -0.03  0.0169  0.0121  0.0064  0.0841  0.0009  ...   \n",
       "2  0.08  0.06 -0.07 -0.41 -0.03  0.0064  0.0036  0.0049  0.1681  0.0009  ...   \n",
       "3  0.02 -0.12  0.01 -0.43 -0.02  0.0004  0.0144  0.0001  0.1849  0.0004  ...   \n",
       "4 -0.14 -0.12 -0.08 -0.02 -0.08  0.0196  0.0144  0.0064  0.0004  0.0064  ...   \n",
       "\n",
       "        x12       x13       x14       x15       x16       x17       x18  \\\n",
       "0  1.051271  0.913931  0.650509  0.923116  0.999800  0.998750  0.995953   \n",
       "1  1.116278  0.923116  0.748264  0.970446  0.991562  0.993956  0.996802   \n",
       "2  1.061837  0.932394  0.663650  0.970446  0.996802  0.998201  0.997551   \n",
       "3  0.886920  1.010050  0.650509  0.980199  0.999800  0.992809  0.999950   \n",
       "4  0.886920  0.923116  0.980199  0.923116  0.990216  0.992809  0.996802   \n",
       "\n",
       "        x19       x20  x21  \n",
       "0  0.908966  0.996802  1.0  \n",
       "1  0.958244  0.999550  1.0  \n",
       "2  0.917121  0.999550  1.0  \n",
       "3  0.908966  0.999800  1.0  \n",
       "4  0.999800  0.996802  1.0  \n",
       "\n",
       "[5 rows x 21 columns]"
      ]
     },
     "execution_count": 109,
     "metadata": {},
     "output_type": "execute_result"
    }
   ],
   "source": [
    "X1 = X.apply(lambda x: np.square(x))\n",
    "X1.columns = ['x6', 'x7', 'x8', 'x9', 'x10']\n",
    "X2 = X.apply(lambda x: np.exp(x))\n",
    "X2.columns = ['x11', 'x12', 'x13', 'x14', 'x15']\n",
    "X3 = X.apply(lambda x: np.cos(x))\n",
    "X3.columns = ['x16', 'x17', 'x18', 'x19', 'x20']\n",
    "cons = np.empty(len(X))\n",
    "cons.fill(1)\n",
    "X4 = pd.DataFrame(cons)\n",
    "X4.columns = ['x21']\n",
    "X_all = X.join(X1).join(X2).join(X3).join(X4)\n",
    "\n",
    "Xy_all = y.to_frame().join(X_all)\n",
    "X_all.head(5)"
   ]
  },
  {
   "cell_type": "markdown",
   "metadata": {},
   "source": [
    "### 1. With standardization"
   ]
  },
  {
   "cell_type": "code",
   "execution_count": 215,
   "metadata": {},
   "outputs": [
    {
     "name": "stdout",
     "output_type": "stream",
     "text": [
      "0.2\n",
      "[ 0.         -0.          0.          0.          0.         -0.01931393\n",
      " -0.01948427 -0.         -0.          0.          0.         -0.\n",
      "  0.          0.27389037  0.          0.          0.          0.\n",
      "  0.         -0.          0.        ]\n"
     ]
    }
   ],
   "source": [
    "# scaling the inputs \n",
    "scaler = StandardScaler() \n",
    "scaled_X = scaler.fit_transform(X_all) \n",
    "\n",
    "penalty = list(np.linspace(0.05,0.2,100))\n",
    "\n",
    "RMSE = []\n",
    "\n",
    "for lmd in penalty:\n",
    "    model = Lasso(alpha = lmd, fit_intercept = False)\n",
    "    cv_results = cross_validate(model, scaled_X, y, cv=10,\n",
    "                            n_jobs=-1,scoring=('neg_mean_squared_error'))\n",
    "    result = np.sqrt(np.abs(cv_results[\"test_score\"]).mean())\n",
    "    RMSE.append(result)\n",
    "    \n",
    "# RMSE = pd.DataFrame(RMSE) \n",
    "\n",
    "# RMSE.to_csv(r'C:\\Users\\l\\Desktop\\task_1b.csv', index = False, header=False)\n",
    "# np.savetxt(\"submission_1a.csv\",np.array(RMSE))\n",
    "# print(RMSE)\n",
    "\n",
    "lmd = penalty[RMSE.index(min(RMSE))]\n",
    "print(lmd)\n",
    "model = Lasso(alpha = lmd, fit_intercept=False)\n",
    "model.fit(scaled_X, y)\n",
    "\n",
    "print(model.coef_)"
   ]
  },
  {
   "cell_type": "markdown",
   "metadata": {},
   "source": [
    "#### 1.1 Add interception to linear_regression (skip here :)"
   ]
  },
  {
   "cell_type": "code",
   "execution_count": 216,
   "metadata": {},
   "outputs": [],
   "source": [
    "# selected = (abs(model.coef_) > 0.01).tolist()\n",
    "# x_selected = [i for i, x in enumerate(selected) if x]\n",
    "\n",
    "# lasso_X = X_all.iloc[:,x_selected]\n",
    "# linear_regression = LinearRegression(n_jobs=-1,fit_intercept = True)\n",
    "# linear_regression.fit(lasso_X, y)\n",
    "# print(linear_regression.coef_, linear_regression.intercept_)\n",
    "\n",
    "# coefs = np.zeros(21)\n",
    "# coefs[20] = linear_regression.intercept_\n",
    "# coefs[x_selected]=linear_regression.coef_.tolist()\n",
    "\n",
    "# print(coefs)\n",
    "\n",
    "# coefs = pd.DataFrame(coefs) \n",
    "# coefs.to_csv(r'C:\\Users\\l\\Desktop\\task_1b.csv', index = False, header=False)\n",
    "\n",
    "# # np.savetxt(\"submission_1b.csv\",coefs)"
   ]
  },
  {
   "cell_type": "markdown",
   "metadata": {},
   "source": [
    "#### 1.2 Without interception in linear_regression"
   ]
  },
  {
   "cell_type": "code",
   "execution_count": 218,
   "metadata": {},
   "outputs": [
    {
     "name": "stdout",
     "output_type": "stream",
     "text": [
      "[ 0.          0.          0.          0.          0.         -7.11607845\n",
      " -8.52928211  0.          0.          0.          0.          0.\n",
      "  0.          1.76657279  0.          0.          0.          0.\n",
      "  0.          0.          0.        ]\n"
     ]
    }
   ],
   "source": [
    "selected = (abs(model.coef_) > 0.01).tolist()\n",
    "x_selected = [i for i, x in enumerate(selected) if x]\n",
    "\n",
    "lasso_X = X_all.iloc[:,x_selected]\n",
    "linear_regression = LinearRegression(n_jobs=-1,fit_intercept = False)\n",
    "linear_regression.fit(lasso_X, y)\n",
    "# print(linear_regression.coef_)\n",
    "coefs = np.zeros(21)\n",
    "# print(linear_regression.coef_)\n",
    "coefs[x_selected]=linear_regression.coef_.tolist()\n",
    "print(coefs)\n",
    "\n",
    "# coefs = pd.DataFrame(coefs) \n",
    "# coefs.to_csv(r'C:\\Users\\l\\Desktop\\task_1b.csv', index = False, header=False)\n",
    "\n",
    "np.savetxt(\"submission_1b.csv\",coefs)"
   ]
  },
  {
   "cell_type": "markdown",
   "metadata": {},
   "source": [
    "#### 1.3 Stat. of linear_regression (no interception)"
   ]
  },
  {
   "cell_type": "code",
   "execution_count": 209,
   "metadata": {},
   "outputs": [
    {
     "name": "stdout",
     "output_type": "stream",
     "text": [
      "                            OLS Regression Results                            \n",
      "==============================================================================\n",
      "Dep. Variable:                      y   R-squared:                       0.054\n",
      "Model:                            OLS   Adj. R-squared:                  0.046\n",
      "Method:                 Least Squares   F-statistic:                     6.577\n",
      "Date:                Wed, 11 Mar 2020   Prob (F-statistic):           9.01e-07\n",
      "Time:                        19:24:52   Log-Likelihood:                -2102.9\n",
      "No. Observations:                 700   AIC:                             4218.\n",
      "Df Residuals:                     694   BIC:                             4245.\n",
      "Df Model:                           6                                         \n",
      "Covariance Type:            nonrobust                                         \n",
      "==============================================================================\n",
      "                 coef    std err          t      P>|t|      [0.025      0.975]\n",
      "------------------------------------------------------------------------------\n",
      "x3             1.4662      2.288      0.641      0.522      -3.026       5.958\n",
      "x6            -4.1260      7.119     -0.580      0.562     -18.104       9.852\n",
      "x7            -9.8578      8.594     -1.147      0.252     -26.731       7.015\n",
      "x12           -1.9273      1.618     -1.191      0.234      -5.104       1.249\n",
      "x14            3.5868      1.466      2.447      0.015       0.709       6.464\n",
      "x15            0.4880      1.694      0.288      0.773      -2.838       3.814\n",
      "==============================================================================\n",
      "Omnibus:                        0.858   Durbin-Watson:                   2.031\n",
      "Prob(Omnibus):                  0.651   Jarque-Bera (JB):                0.721\n",
      "Skew:                           0.067   Prob(JB):                        0.697\n",
      "Kurtosis:                       3.084   Cond. No.                         77.7\n",
      "==============================================================================\n",
      "\n",
      "Warnings:\n",
      "[1] Standard Errors assume that the covariance matrix of the errors is correctly specified.\n"
     ]
    }
   ],
   "source": [
    "# lasso_X1 = sm.add_constant(lasso_X)\n",
    "model_reduced = sm.OLS(y, lasso_X)\n",
    "final_model = model_reduced.fit()\n",
    "print(final_model.summary())"
   ]
  },
  {
   "cell_type": "markdown",
   "metadata": {},
   "source": [
    "### 2. Without standardization (skip :)"
   ]
  },
  {
   "cell_type": "code",
   "execution_count": 152,
   "metadata": {},
   "outputs": [
    {
     "name": "stdout",
     "output_type": "stream",
     "text": [
      "0.05\n",
      "[ 0.         -0.          0.          0.          0.         -0.\n",
      " -0.         -0.         -0.          0.          0.          0.\n",
      "  0.          1.29630057  0.          0.          0.          0.\n",
      "  0.          0.          0.        ]\n"
     ]
    }
   ],
   "source": [
    "# penalty = [0.0001,0.001,0.01,0.1,1,10,100,1000,10000]\n",
    "penalty = [0,0.001,0.01,0.05,0.1,0.5,1]\n",
    "\n",
    "RMSE = []\n",
    "\n",
    "for lmd in penalty:\n",
    "    model = Lasso(alpha = lmd, fit_intercept = False)\n",
    "    cv_results = cross_validate(model, X_all, y, cv=10,\n",
    "                            n_jobs=-1,scoring=('neg_mean_squared_error'))\n",
    "    result = np.sqrt(np.abs(cv_results[\"test_score\"]).mean())\n",
    "    RMSE.append(result)\n",
    "    \n",
    "# RMSE = pd.DataFrame(RMSE) \n",
    "\n",
    "# RMSE.to_csv(r'C:\\Users\\l\\Desktop\\task_1b.csv', index = False, header=False)\n",
    "# np.savetxt(\"submission_1a.csv\",np.array(RMSE))\n",
    "# print(RMSE)\n",
    "\n",
    "lmd = penalty[RMSE.index(min(RMSE))]\n",
    "print(lmd)\n",
    "model = Lasso(alpha = lmd, fit_intercept=False)\n",
    "model.fit(X_all, y)\n",
    "print(model.coef_)\n",
    "\n",
    "# lasso_X = X_all.iloc[:,13]\n",
    "# linear_regression = LinearRegression(n_jobs=-1,fit_intercept = False)\n",
    "# linear_regression.fit(lasso_X, y)\n",
    "# print(linear_regression.coef_)\n",
    "# coefs = np.zeros(21)\n",
    "# coefs[13]=linear_regression.coef_[0]"
   ]
  },
  {
   "cell_type": "code",
   "execution_count": null,
   "metadata": {},
   "outputs": [],
   "source": []
  }
 ],
 "metadata": {
  "kernelspec": {
   "display_name": "Python 3",
   "language": "python",
   "name": "python3"
  },
  "language_info": {
   "codemirror_mode": {
    "name": "ipython",
    "version": 3
   },
   "file_extension": ".py",
   "mimetype": "text/x-python",
   "name": "python",
   "nbconvert_exporter": "python",
   "pygments_lexer": "ipython3",
   "version": "3.7.1"
  }
 },
 "nbformat": 4,
 "nbformat_minor": 2
}
