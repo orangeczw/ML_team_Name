{
 "cells": [
  {
   "cell_type": "code",
   "execution_count": 1,
   "metadata": {},
   "outputs": [],
   "source": [
    "import numpy as np\n",
    "import pandas as pd\n",
    "import matplotlib.pyplot as plt"
   ]
  },
  {
   "cell_type": "code",
   "execution_count": 2,
   "metadata": {},
   "outputs": [],
   "source": [
    "data = pd.read_csv(\"./task1b_ow9d3sa/train.csv\")\n",
    "X = data.drop(columns=[\"Id\",\"y\"]).values\n",
    "y = data[\"y\"].values"
   ]
  },
  {
   "cell_type": "code",
   "execution_count": 3,
   "metadata": {},
   "outputs": [],
   "source": [
    "def linear(x):\n",
    "    return x\n",
    "def quadratic(x):\n",
    "    return x**2\n",
    "def exp(x):\n",
    "    return np.exp(x)\n",
    "def cosine(x):\n",
    "    return np.cos(x)\n",
    "def constant(x):\n",
    "    return np.ones(len(x)).reshape(-1, 1)"
   ]
  },
  {
   "cell_type": "code",
   "execution_count": 4,
   "metadata": {},
   "outputs": [],
   "source": [
    "def poly_preprocessing(x):\n",
    "    poly_features = []\n",
    "    for i in [linear,quadratic,exp,cosine,constant]:\n",
    "        poly_features.append(i(x))\n",
    "    return np.concatenate(poly_features,axis=1)"
   ]
  },
  {
   "cell_type": "code",
   "execution_count": 5,
   "metadata": {},
   "outputs": [],
   "source": [
    "poly_X = poly_preprocessing(X)"
   ]
  },
  {
   "cell_type": "code",
   "execution_count": 6,
   "metadata": {},
   "outputs": [],
   "source": [
    "from sklearn.linear_model import LinearRegression\n",
    "from sklearn.linear_model import Lasso\n",
    "from sklearn.model_selection import cross_validate"
   ]
  },
  {
   "cell_type": "code",
   "execution_count": 7,
   "metadata": {},
   "outputs": [
    {
     "name": "stdout",
     "output_type": "stream",
     "text": [
      "Alpha:   0\n",
      "MSE: 24.544628289480237\n",
      "\n",
      "Alpha:   0.001\n",
      "MSE: 24.497514270830276\n",
      "\n",
      "Alpha:   0.01\n",
      "MSE: 24.264075533429114\n",
      "\n",
      "Alpha:   0.05\n",
      "MSE: 24.16725662229394\n",
      "\n",
      "Alpha:   0.1\n",
      "MSE: 24.196518399961928\n",
      "\n",
      "Alpha:   0.5\n",
      "MSE: 24.509892538024204\n",
      "\n",
      "Alpha:   1\n",
      "MSE: 25.153525014851986\n",
      "\n"
     ]
    }
   ],
   "source": [
    "alphas = [0,0.001,0.01,0.05,0.1,0.5,1]\n",
    "coefs = []\n",
    "for i in alphas:\n",
    "    lasso = Lasso(alpha = i,fit_intercept = False)\n",
    "    cv_results = cross_validate(lasso, poly_X, y, cv=10,\n",
    "                            n_jobs=-1,scoring=('neg_mean_squared_error'))\n",
    "    ave_results = np.abs(cv_results[\"test_score\"].mean())\n",
    "    print(\"Alpha:   {}\".format(i))\n",
    "    print(\"MSE: {}\".format(ave_results))\n",
    "    print(\"\")"
   ]
  },
  {
   "cell_type": "code",
   "execution_count": 8,
   "metadata": {},
   "outputs": [
    {
     "name": "stdout",
     "output_type": "stream",
     "text": [
      "[ 0.         -0.          0.          0.          0.         -0.\n",
      " -0.         -0.         -0.          0.          0.          0.\n",
      "  0.          1.29630057  0.          0.          0.          0.\n",
      "  0.          0.          0.        ]\n"
     ]
    }
   ],
   "source": [
    "lasso=Lasso(alpha = 0.05,fit_intercept = False)\n",
    "lasso.fit(poly_X,y)\n",
    "print(lasso.coef_)"
   ]
  },
  {
   "cell_type": "code",
   "execution_count": 9,
   "metadata": {},
   "outputs": [],
   "source": [
    "lasso_X = poly_X[:,13].reshape(-1,1)"
   ]
  },
  {
   "cell_type": "code",
   "execution_count": 10,
   "metadata": {},
   "outputs": [],
   "source": [
    "linear_regression = LinearRegression(n_jobs=-1,fit_intercept = False)"
   ]
  },
  {
   "cell_type": "code",
   "execution_count": 11,
   "metadata": {},
   "outputs": [
    {
     "data": {
      "text/plain": [
       "LinearRegression(copy_X=True, fit_intercept=False, n_jobs=-1, normalize=False)"
      ]
     },
     "execution_count": 11,
     "metadata": {},
     "output_type": "execute_result"
    }
   ],
   "source": [
    "linear_regression.fit(lasso_X, y)"
   ]
  },
  {
   "cell_type": "code",
   "execution_count": 12,
   "metadata": {},
   "outputs": [
    {
     "name": "stdout",
     "output_type": "stream",
     "text": [
      "[1.37975223]\n"
     ]
    }
   ],
   "source": [
    "print(linear_regression.coef_)"
   ]
  },
  {
   "cell_type": "code",
   "execution_count": 13,
   "metadata": {},
   "outputs": [],
   "source": [
    "coefs = np.zeros(21)\n",
    "coefs[13]=linear_regression.coef_[0]"
   ]
  },
  {
   "cell_type": "code",
   "execution_count": 14,
   "metadata": {},
   "outputs": [],
   "source": [
    "np.savetxt(\"submission_1b.csv\",coefs)"
   ]
  }
 ],
 "metadata": {
  "kernelspec": {
   "display_name": "Python 3",
   "language": "python",
   "name": "python3"
  },
  "language_info": {
   "codemirror_mode": {
    "name": "ipython",
    "version": 3
   },
   "file_extension": ".py",
   "mimetype": "text/x-python",
   "name": "python",
   "nbconvert_exporter": "python",
   "pygments_lexer": "ipython3",
   "version": "3.7.3"
  }
 },
 "nbformat": 4,
 "nbformat_minor": 2
}
