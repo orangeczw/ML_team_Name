{
 "cells": [
  {
   "cell_type": "code",
   "execution_count": 10,
   "metadata": {},
   "outputs": [],
   "source": [
    "import numpy as np\n",
    "import pandas as pd\n",
    "import matplotlib.pyplot as plt"
   ]
  },
  {
   "cell_type": "code",
   "execution_count": 11,
   "metadata": {},
   "outputs": [],
   "source": [
    "data = pd.read_csv(\"./task1b_ow9d3sa/train.csv\")\n",
    "X = data.drop(columns=[\"Id\",\"y\"]).values\n",
    "y = data[\"y\"].values"
   ]
  },
  {
   "cell_type": "code",
   "execution_count": 12,
   "metadata": {},
   "outputs": [],
   "source": [
    "def linear(x):\n",
    "    return x\n",
    "def quadratic(x):\n",
    "    return x**2\n",
    "def exp(x):\n",
    "    return np.exp(x)\n",
    "def cosine(x):\n",
    "    return np.cos(x)\n",
    "def constant(x):\n",
    "    return np.ones(len(x)).reshape(-1, 1)"
   ]
  },
  {
   "cell_type": "code",
   "execution_count": 13,
   "metadata": {},
   "outputs": [],
   "source": [
    "def poly_preprocessing(x):\n",
    "    poly_features = []\n",
    "    for i in [linear,quadratic,exp,cosine,constant]:\n",
    "        poly_features.append(i(x))\n",
    "    return np.concatenate(poly_features,axis=1)"
   ]
  },
  {
   "cell_type": "code",
   "execution_count": 14,
   "metadata": {},
   "outputs": [],
   "source": [
    "poly_X = poly_preprocessing(X)"
   ]
  },
  {
   "cell_type": "code",
   "execution_count": 25,
   "metadata": {},
   "outputs": [
    {
     "data": {
      "text/plain": [
       "array([[ 0.02      ,  0.05      , -0.09      , ...,  0.90896575,\n",
       "         0.99680171,  1.        ],\n",
       "       [-0.13      ,  0.11      , -0.08      , ...,  0.95824388,\n",
       "         0.99955003,  1.        ],\n",
       "       [ 0.08      ,  0.06      , -0.07      , ...,  0.91712082,\n",
       "         0.99955003,  1.        ],\n",
       "       ...,\n",
       "       [-0.27      , -0.22      , -0.01      , ...,  0.94923542,\n",
       "         0.99875026,  1.        ],\n",
       "       [ 0.19      ,  0.11      , -0.05      , ...,  0.9637709 ,\n",
       "         0.99920011,  1.        ],\n",
       "       [-0.09      , -0.09      , -0.06      , ...,  0.91712082,\n",
       "         0.99820054,  1.        ]])"
      ]
     },
     "execution_count": 25,
     "metadata": {},
     "output_type": "execute_result"
    }
   ],
   "source": [
    "poly_X"
   ]
  },
  {
   "cell_type": "code",
   "execution_count": 15,
   "metadata": {},
   "outputs": [],
   "source": [
    "from sklearn.linear_model import LinearRegression"
   ]
  },
  {
   "cell_type": "code",
   "execution_count": 23,
   "metadata": {},
   "outputs": [
    {
     "data": {
      "text/plain": [
       "LinearRegression(copy_X=True, fit_intercept=True, n_jobs=-1, normalize=False)"
      ]
     },
     "execution_count": 23,
     "metadata": {},
     "output_type": "execute_result"
    }
   ],
   "source": [
    "model = LinearRegression(n_jobs=-1,fit_intercept = True)\n",
    "model.fit(poly_X,y)"
   ]
  },
  {
   "cell_type": "code",
   "execution_count": 24,
   "metadata": {},
   "outputs": [],
   "source": [
    "np.savetxt(\"submission_1b.csv\",model.coef_)"
   ]
  }
 ],
 "metadata": {
  "kernelspec": {
   "display_name": "Python 3",
   "language": "python",
   "name": "python3"
  },
  "language_info": {
   "codemirror_mode": {
    "name": "ipython",
    "version": 3
   },
   "file_extension": ".py",
   "mimetype": "text/x-python",
   "name": "python",
   "nbconvert_exporter": "python",
   "pygments_lexer": "ipython3",
   "version": "3.7.3"
  }
 },
 "nbformat": 4,
 "nbformat_minor": 2
}
